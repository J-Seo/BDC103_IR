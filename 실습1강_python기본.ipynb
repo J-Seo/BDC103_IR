{
  "nbformat": 4,
  "nbformat_minor": 0,
  "metadata": {
    "colab": {
      "name": "실습1강_python기본.ipynb",
      "provenance": [],
      "collapsed_sections": [
        "QudRrO35y3Sx",
        "RaWlTEHq0pXT",
        "20mLXXn7rs1i"
      ]
    },
    "kernelspec": {
      "name": "python3",
      "display_name": "Python 3"
    }
  },
  "cells": [
    {
      "cell_type": "markdown",
      "metadata": {
        "id": "uZsVxb8IyKSG"
      },
      "source": [
        "# 실습 1강. Python 기본\n",
        "\n",
        "본 실습 자료는 **BDC103(00) 빅데이터와정보검색 강의 실습**을 위해 **고려대학교 자연어처리연구실 (NLP & AI Lab)**에서 제작했습니다.\n",
        "\n",
        "☠️ 외부로의 무단 배포를 금지합니다. ☠️\n",
        "\n",
        "\n",
        "\n",
        "```\n",
        "version 1.0 (2021.03.04)\n",
        "created by: 서재형, 임희석 (고려대학교 자연어처리 연구실)\n",
        "email: wolhalang@gmail.com\n",
        "```\n",
        "\n"
      ]
    },
    {
      "cell_type": "markdown",
      "metadata": {
        "id": "2zwbsIdCyzh0"
      },
      "source": [
        "## **시작하기 전에 반드시 해야할 것들** 😁\n",
        "\n",
        "\n",
        "ipynb 파일은 파이썬 언어를 기반으로 제작된 노트 파일이며, Jupyter Notebook과 Google Colab 상에서 읽기/쓰기가 가능합니다.\n",
        "\n",
        "➀ 크롬 다운로드와 구글 계정을 생성.   \n",
        "➁ 좌측 상단 '파일' -> '드라이브에 사본 저장...'   \n",
        "➂ 본인의 구글 계정 Gdrive에 접속해주세요  \n",
        "➃ 자동으로 'Colab Notebooks'라는 폴더가 만들어져 있습니다  \n",
        "(*없다면 새로고침를 눌러주세요)  \n",
        "➄ 해당 폴더 속에 사본 파일이 복사된 것을 확인   \n",
        "➅ 'Colab Notebooks'폴더 안에 꼭 'information_retrieval'라는 이름의 폴더를 만들어주세요  \n",
        "➆ 사본 ipynd 파일을 'information_retrieval' 폴더로 이동 시킨 후 열어주세요!"
      ]
    },
    {
      "cell_type": "markdown",
      "metadata": {
        "id": "QudRrO35y3Sx"
      },
      "source": [
        "### **구글 코랩(Google Colab) 사용 방법**\n",
        "\n",
        "1. 텍스트 생성\n",
        "\n",
        "    - 이 셀을 한 번 클릭하고 좌측 상단 '+ 텍스트' 버튼 클릭\n",
        "\n",
        "2. 코드 생성\n",
        "\n",
        "    - 이 셀을 한 번 클릭하고 좌측 상단 '+ 코드' 버튼 클릭\n",
        "\n",
        "3. 셀 실행\n",
        "\n",
        "    - 실행하고자하는 셀을 클릭한 이후에 `shift + enter`\n",
        "\n",
        "4. 기타\n",
        "\n",
        "    - 아래 튜토리얼 링크를 통해 colab 사용법 참조\n",
        "    - https://colab.research.google.com/notebooks/intro.ipynb#"
      ]
    },
    {
      "cell_type": "markdown",
      "metadata": {
        "id": "iDurvzfM1CUA"
      },
      "source": [
        "### Colab 소개 영상"
      ]
    },
    {
      "cell_type": "code",
      "metadata": {
        "colab": {
          "base_uri": "https://localhost:8080/",
          "height": 421
        },
        "id": "I-sAzq4T0-dL",
        "outputId": "3ed15e12-30ea-4d56-eef6-1ba5ae6cf45f"
      },
      "source": [
        "from IPython.display import YouTubeVideo\n",
        "YouTubeVideo('inN8seMm7UI', width=600, height=400)"
      ],
      "execution_count": null,
      "outputs": [
        {
          "output_type": "execute_result",
          "data": {
            "text/html": [
              "\n",
              "        <iframe\n",
              "            width=\"600\"\n",
              "            height=\"400\"\n",
              "            src=\"https://www.youtube.com/embed/inN8seMm7UI\"\n",
              "            frameborder=\"0\"\n",
              "            allowfullscreen\n",
              "        ></iframe>\n",
              "        "
            ],
            "text/plain": [
              "<IPython.lib.display.YouTubeVideo at 0x7fd8dc3bae90>"
            ],
            "image/jpeg": "[encoded data removed]"
          },
          "metadata": {
            "tags": []
          },
          "execution_count": 2
        }
      ]
    },
    {
      "cell_type": "markdown",
      "metadata": {
        "id": "STsn5HdO66Hk"
      },
      "source": [
        "## 🤥💦 모르는 것이 있을 경우에는?\n",
        "\n",
        "프로그래밍의 첫 걸음은 **`검색`** 입니다.\n",
        "\n",
        "특히 **`빅데이터와 정보 검색`** 수업을 듣고 있는 여러분들은 **반.드.시** 궁금하거나 모르는 내용에 대해서 **`검색`**하는 습관이 필요합니다.\n",
        "\n",
        "> Google 검색 엔진 \n",
        "                \n",
        "    -> \"Python 루프문\"\n",
        "                 \n",
        "    -> \"Python for문 에러\"\n",
        "\n",
        "    -> \"What is SyntaxError: invalid syntax in python?\"\n",
        "\n",
        "등의 `에러문장`과 `키워드`를 적극 활용해주세요!😄\n"
      ]
    },
    {
      "cell_type": "markdown",
      "metadata": {
        "id": "RaWlTEHq0pXT"
      },
      "source": [
        "### **Python이란?**\n",
        "\n",
        "ㄱ. 인터프리터 언어: 소스 코드를 바로 실행 가능, 한줄 씩 읽으면서 별도의 실행 파일이 없어서 설계가 굉장히 빠름\n",
        " \n",
        "ㄴ. 객체 지향 중심: 코드가 절차 순으로 되어 있는 것이 아닌, 각각의 클래스 별로 모듈화\n",
        " \n",
        "ㄷ. 얼마나 많은 사람들이 사용하느냐?\n",
        "- 관련 논문 매우 많음\n",
        "- 관련 패키지 및 라이브러리 굉장히 많음\n",
        "- 업데이트 굉장히 빠름\n",
        "\n",
        "### **ipython파일이란?** \n",
        "\n",
        "지금 읽고 있는 문서는 Colab의 클라우드 환경에서 작동하는 [Jupyter 노트북](https://jupyter.org) 기반의 .ipynb 파일입니다. 노트북 파일이라고 부르며, 파이썬 코드를 작은 셀(cell) 단위로 나누어서 실행할 수 있어서 쉽고 빠르게 코드를 작성할 수 있습니다. \n",
        "\n",
        "Jupyter notebook은 파이썬 환경에서 지원하는 웹 기반의 오픈소스 소프트웨어 중 하나이며, 외부 패키지처럼 설치해서 사용할 수 있습니다. \n",
        "\n",
        "Colab의 기본 환경은 python 3와 Jupyter notebook으로 되어 있습니다. "
      ]
    },
    {
      "cell_type": "markdown",
      "metadata": {
        "id": "_wcAGIS6m2_s"
      },
      "source": [
        "## 코멘트 😶\n",
        "\n",
        "코멘트(주석)는 컴퓨터가 읽지 않도록 하는 기능입니다.  \n",
        "> '#' 을 입력 후 원하는 내용을 입력할 수 있습니다.\n",
        "\n",
        "```\n",
        "# 민족의 아리아\n",
        "```"
      ]
    },
    {
      "cell_type": "code",
      "metadata": {
        "id": "mMkQ2xSSnbuc"
      },
      "source": [
        "# Todo 1. 자기 이름을 코멘트로 작성하기"
      ],
      "execution_count": null,
      "outputs": []
    },
    {
      "cell_type": "markdown",
      "metadata": {
        "id": "tmiXhUoMnuZG"
      },
      "source": [
        "## 출력 Print 😒\n",
        "\n",
        "`print()`는 입력한 실행 값에 대해서 코드 실행 결과를 반환 \n",
        "> 'print' 을 입력 후 '()' 안에 원하는 내용을 입력할 수 있습니다.\n",
        "\n",
        "```\n",
        "print('석탑')\n",
        "```"
      ]
    },
    {
      "cell_type": "code",
      "metadata": {
        "id": "90PGwqMZnmNA"
      },
      "source": [
        "# Todo 2. 자신의 이름을 출력하기\n",
        "\n",
        "# Todo 3. 자신의 나이를 출력하기\n",
        "\n",
        "# Todo 4. 참/거짓 중 거짓을 출력하기 (참조: 파이썬 불린 예약어 사용)\n"
      ],
      "execution_count": null,
      "outputs": []
    },
    {
      "cell_type": "markdown",
      "metadata": {
        "id": "HOzODM7VofjW"
      },
      "source": [
        "## 변수 Variables 🥺\n",
        "\n",
        "변수는 프로그래밍 언어에서 데이터를 저장하는 공간입니다. \n",
        "\n",
        "> 변수를 어떠한 값으로 지정하는 것을 파이썬에서는 **`선언(assign)`**이라고 하며 **`=`** 부호를 사용합니다.\n",
        "\n",
        "```\n",
        "text = '지축을 박차고 포효하라 그대'\n",
        "```\n",
        "\n"
      ]
    },
    {
      "cell_type": "code",
      "metadata": {
        "colab": {
          "base_uri": "https://localhost:8080/",
          "height": 130
        },
        "id": "Uabm0EM7o6MG",
        "outputId": "35c18e1e-fafa-42b3-e12f-5bebddb8537b"
      },
      "source": [
        "# Todo 5. 자신의 이름을 변수에 할당하기 \n",
        "\n",
        "my_name = \n",
        "\n",
        "# Todo 6. 자신의 이름을 넣은 변수를 출력하기\n"
      ],
      "execution_count": null,
      "outputs": [
        {
          "output_type": "error",
          "ename": "SyntaxError",
          "evalue": "ignored",
          "traceback": [
            "\u001b[0;36m  File \u001b[0;32m\"<ipython-input-17-bead561753a5>\"\u001b[0;36m, line \u001b[0;32m3\u001b[0m\n\u001b[0;31m    my_name =\u001b[0m\n\u001b[0m              ^\u001b[0m\n\u001b[0;31mSyntaxError\u001b[0m\u001b[0;31m:\u001b[0m invalid syntax\n"
          ]
        }
      ]
    },
    {
      "cell_type": "markdown",
      "metadata": {
        "id": "Bw5-36aeqceI"
      },
      "source": [
        "## 문자열 String 😳\n",
        "\n",
        "프로그래밍 언어에서 텍스트는 문자열(string)이라고 부릅니다.\n",
        "\n",
        "파이썬에서는 문자열을 큰 따옴표 또는 작은 따옴표로 표기합니다.\n",
        "\n",
        "어떤 것을 쓰는지는 상관이 없으나, 짝이 맞게 사용해야 합니다. \n",
        "\n",
        "```\n",
        "double = \"어기여차 에헤 어기여차쿵\"\n",
        "single = '어기여차 에헤 어기여차쿵'\n",
        "```\n"
      ]
    },
    {
      "cell_type": "code",
      "metadata": {
        "id": "l9xj_89brdY4"
      },
      "source": [
        "# Todo 7. 자신의 이름을 큰 따옴표로 출력\n",
        "\n",
        "# Todo 8. 자신의 이름을 작은 따옴표로 출력\n"
      ],
      "execution_count": null,
      "outputs": []
    },
    {
      "cell_type": "markdown",
      "metadata": {
        "id": "20mLXXn7rs1i"
      },
      "source": [
        "## 숫자 Numeric Data types 🙀\n",
        "\n",
        "파이썬은 수를 여러 가지 타입으로 분류합니다.\n",
        "\n",
        "여기서는 가장 대표적인 두 가지 타입을 알아보겠습니다.\n",
        "\n",
        "> **`정수형(int)`** 정수형 숫자 데이터를 저장하는 변수 타입으로, 소수점이 없는 수를 의미합니다. (-2, -1, 0, 3, 394 등)\n",
        "\n",
        "> **`실수형(float)`** 실수형 숫자 데이터를 저장하는 변수 타입으로, 부동소수점을 표기하는 수를 의미합니다. (1.23, 10.56939 등)\n",
        "\n",
        "> 숫자형의 정확한 타입의 확인을 위해서 **`type()`** 함수를 사용할 수 있습니다.\n",
        "\n",
        "```\n",
        "integer1 = 1905\n",
        "float1 = 5.5\n",
        "\n",
        "print(type(float1))\n",
        "```\n"
      ]
    },
    {
      "cell_type": "markdown",
      "metadata": {
        "id": "Fb8Gc6RYtGgh"
      },
      "source": [
        "## 불 bool data types ☺️\n",
        "\n",
        "> 참(True), 거짓(False)를 나타내는 자료형인 (bool)\n",
        "\n",
        "```\n",
        "print(type(True))\n",
        "print(type(False))\n",
        "```"
      ]
    },
    {
      "cell_type": "markdown",
      "metadata": {
        "id": "kiQkQgdotjyQ"
      },
      "source": [
        "## 사칙연산 ➕➖➗✖\n",
        "\n",
        "파이썬은 우리가 흔히 알고 있던 사칙 연산 기호를 써서 연산합니다.\n",
        "   \n",
        "제곱은 `**` 으로 표기합니다\n",
        "\n",
        "```\n",
        "print(100 - 2)\n",
        "a = 100 + 2\n",
        "c = 100 * 2\n",
        "d = 100 / 2\n",
        "cc = 100 ** 2\n",
        "```"
      ]
    },
    {
      "cell_type": "code",
      "metadata": {
        "id": "wli5bhGxs6Gm"
      },
      "source": [
        "# Todo 9. ?를 사칙연산 기호로 바꾸고 아래의 수식을 완성하여 답 18.0을 만드시오\n",
        "\n",
        "num = 3 ? 2 ? 2 ? 6"
      ],
      "execution_count": null,
      "outputs": []
    },
    {
      "cell_type": "markdown",
      "metadata": {
        "id": "ma-fN7WcuP_h"
      },
      "source": [
        "## 함수 functions 🤔\n",
        "\n",
        "입력을 받아서 특정한 작업을 실시한 다음 결과물을 반환합니다.\n",
        "\n",
        "```\n",
        "def love(parameter1, parameter2):\n",
        "    print(parameter1)\n",
        "    print(parameter2)\n",
        "\n",
        "\n",
        "love(parameter1 = 'Korea', parameter2 = 'Univ')\n",
        "```\n"
      ]
    },
    {
      "cell_type": "code",
      "metadata": {
        "id": "Q0R5seg45D0r"
      },
      "source": [
        "# Todo 10. 함수의 이름을 love로 하고, 2개의 인자를 받아서 하나씩 출력하는 함수를 만드시오\n",
        "# hint: 위의 예시와 동일"
      ],
      "execution_count": null,
      "outputs": []
    },
    {
      "cell_type": "markdown",
      "metadata": {
        "id": "55NgjUthGFAs"
      },
      "source": [
        "```\n",
        "def function():\n",
        "  code      <-- 파이썬에서는 tab 또는 띄어쓰기 4칸 으로 함수 안의 내용과 밖의 내용을 구분합니다. (들여쓰기)\n",
        "  code\n",
        "<-- shift+tab 으로 탈출할 수 있습니다 \n",
        "function()\n",
        "```"
      ]
    },
    {
      "cell_type": "code",
      "metadata": {
        "colab": {
          "base_uri": "https://localhost:8080/"
        },
        "id": "hwEKoQQz5oyX",
        "outputId": "0cac6d89-5be1-42cb-e97e-82b77e54b1f2"
      },
      "source": [
        "lyrics_1 = '들어라 그대여'\n",
        "lyrics_2 = '보아라 그대여'\n",
        "lyrics_3 = '기억하라 우리의 붉은 함성을'\n",
        "\n",
        "def laputa():\n",
        "    print(lyrics_1)\n",
        "    print(lyrics_2)\n",
        "    print(lyrics_3)\n",
        "\n",
        "laputa()"
      ],
      "execution_count": null,
      "outputs": [
        {
          "output_type": "stream",
          "text": [
            "들어라 그대여\n",
            "보아라 그대여\n",
            "기억하라 우리의 붉은 함성을\n"
          ],
          "name": "stdout"
        }
      ]
    },
    {
      "cell_type": "markdown",
      "metadata": {
        "id": "8bF1A27o7MJH"
      },
      "source": [
        "## 반환 return 🤔\n",
        "\n",
        "함수에서 정의하고 연산을 통한 결과는 지역 변수로써 함수 외부로 탈출하는 경우 영향을 주지 않습니다.\n",
        "\n",
        "따라서, 함수 내부에서 실행한 연산 결과를 전역 변수와 같이 사용하려면 해당 함수의 실행 결과를 **'반환'** 해야합니다.\n",
        "\n",
        "```\n",
        "# 반환을 지정하는 경우\n",
        "def if_return(input_num):\n",
        "    return input_num / 2\n",
        "\n",
        "# 반환을 지정하지 않는 경우\n",
        "def if_not_return(input_num):\n",
        "    input_num / 2\n",
        "```"
      ]
    },
    {
      "cell_type": "code",
      "metadata": {
        "id": "3Z3fN31m6-Ma"
      },
      "source": [
        "# Todo 11. 위의 예시를 아래에 실행해보고 둘의 차이 확인하기"
      ],
      "execution_count": null,
      "outputs": []
    },
    {
      "cell_type": "markdown",
      "metadata": {
        "id": "4jqgaz4NHiQE"
      },
      "source": [
        "## 리스트(List) 😊\n",
        "\n",
        "리스트는 숫자와 문자열만으로는 표현할 수 있는 것들에 한계가 존재.  \n",
        "파이썬의 자료 구조 형태 중 하나로 리스트는 값을 나열하는 것으로 정의됩니다.  \n",
        "\n",
        "### List 만들기 \n",
        "\n",
        "리스트의 구조는 단순합니다. 변수로 리스트를 정의하고  대괄호 안에 여러 개의 값을 넣고 각각을 콤마 (,) 로 구분하면 됩니다.  \n",
        ">예) 가게 메뉴 = [ 🍦, 🌮, 🍔, 🥟]  \n",
        "\n",
        "```\n",
        "menu = ['ice_cream', 'taco', 'hamburger', 'dumpling']\n",
        "```\n"
      ]
    },
    {
      "cell_type": "code",
      "metadata": {
        "id": "L0BXfZupHuDm"
      },
      "source": [
        "# Todo 12. 좋아하는 음식을 리스트로 표현해보세요.\n",
        "\n",
        "# ex) food = ['치킨', '피자']"
      ],
      "execution_count": null,
      "outputs": []
    },
    {
      "cell_type": "markdown",
      "metadata": {
        "id": "sj8DusQoInK_"
      },
      "source": [
        "리스트는 원소로  `문자열`, `숫자`, `리스트` 등의 자료형을 담아낼 수 있습니다.\n",
        "\n",
        "`.append()`를 사용하여 값을 추가할 수 있습니다.\n",
        "\n",
        "```\n",
        "# 리스트에 리스트 담기\n",
        "\n",
        "food = [['후라이드치킨', '양념치킨'], ['하와이안피자', '페퍼로니피자']]\n",
        "\n",
        "# append로 값을 추가하기\n",
        "\n",
        "food.append(['감자튀김, '양념감자'])\n",
        "food.append('족발')\n",
        "```"
      ]
    },
    {
      "cell_type": "markdown",
      "metadata": {
        "id": "QB5Cp7NsJZqj"
      },
      "source": [
        "## 색인(index) 😶\n",
        "리스트와 문자열은 색인을 적용하여 리스트 또는 문자열 안의 값들을 가져올 수 있습니다. \n",
        " \n",
        "` num = [1,9,0,5]` 라는  list가 있을 때, \n",
        " \n",
        "- `num[0]` 은 num 리스트의 첫 번째 요소값을 말합니다.  \n",
        "- `num[1]` 은 두 번째, `num[2]`는 세 번째... 이렇게 순서대로 리스트안의 요소값을 말합니다. \n",
        " \n",
        "**파이썬은 0부터 색인 숫자를 부여합니다.**\n",
        "\n",
        "```\n",
        "# 인덱싱\n",
        "A = 'KOREA'\n",
        "\n",
        "print(A[0]) # K\n",
        "print(A[-1]) # A\n",
        "print(A[1]) # O\n",
        "\n",
        "# 슬라이싱\n",
        "print(A[:1]) # K\n",
        "print(A[:2]) # KO\n",
        "print(A[2:]) # REA\n",
        "```"
      ]
    },
    {
      "cell_type": "code",
      "metadata": {
        "id": "-jjECCFtIkR9"
      },
      "source": [
        "# Todo 13. 아래의 리스트 변수를 조건에 맞게 출력하시오\n",
        "\n",
        "sample = ['0','1', '2', '3', '4']\n",
        "\n",
        "# 0을 출력하시오\n",
        "\n",
        "# 1을 출력하시오\n",
        "\n",
        "# 4를 출력하시오\n",
        "\n",
        "# ['0','1','2']를 출력하시오\n"
      ],
      "execution_count": null,
      "outputs": []
    },
    {
      "cell_type": "markdown",
      "metadata": {
        "id": "bYCllfzCMn_L"
      },
      "source": [
        "## 조건문 (if) 😄\n",
        "주어진 조건을 판단한 후 상황에 맞게 다른 명령을 내릴 수 있도록 함.\n",
        "\n",
        "가장 간단하게 `if`를 사용하여 다음과 같이 어떤 조건이 **참(True)**일 경우에 특정 동작을 하도록 할 수 있습니다.\n",
        "\n",
        "`else`를 함께 활용해서 거짓일 경우에도 특정 동작이 가능하도록 할 수 있습니다. \n",
        "```\n",
        " if <조건> :\n",
        "    <조건이 참일 경우 취하는 동작>  # 들여쓰기 필요 \n",
        " else:\n",
        "    <조건이 거짓일 경우 취하는 동작>\n",
        "```"
      ]
    },
    {
      "cell_type": "code",
      "metadata": {
        "colab": {
          "base_uri": "https://localhost:8080/"
        },
        "id": "-sgRWQ9oLnqU",
        "outputId": "07ea888f-a2d3-4858-a175-0cc012c7772b"
      },
      "source": [
        "# Todo 14. 아래의 변수 'a'의 값을 바꾸어 참과 거짓에 해당하는 결과를 한 번씩 만들어보자\n",
        "a = 8\n",
        "\n",
        "if a + 2  == 10:\n",
        "    print('a는 참입니다')\n",
        "\n",
        "else:\n",
        "    print('a는 거짓입니다')"
      ],
      "execution_count": null,
      "outputs": [
        {
          "output_type": "stream",
          "text": [
            "a는 참입니다\n"
          ],
          "name": "stdout"
        }
      ]
    },
    {
      "cell_type": "markdown",
      "metadata": {
        "id": "LklMJfqyOACk"
      },
      "source": [
        "## 루프(Loops) ☺️\n",
        "\n",
        "루프는 명령어를 반복적으로 실행시키는 경우에 사용합니다.\n",
        "\n",
        "동일한 내용을 수 백번 print할 때 print 문을 수 백번 작성하는 것은 비효율적입니다! \n",
        "\n",
        "그래서 이럴 경우 파이썬에서 제공하는 루프(Loop)명령문을 이용한다면 동일한 내용을 반복해서 작성할 필요가 없습니다. \n",
        "\n",
        "```\n",
        "songs = ['민족의아리아', '엘리제', '뱃노래', '석탑', '지야의함성', '젊은그대']\n",
        "\n",
        "print(\"응원가\":)\n",
        "print(\"songs[0])\n",
        "print(\"songs[1])\n",
        "print(\"songs[2])\n",
        "print(\"songs[3])\n",
        "print(\"songs[4])\n",
        "print(\"songs[5])\n",
        "```"
      ]
    },
    {
      "cell_type": "markdown",
      "metadata": {
        "id": "JWZHFTs6RT4C"
      },
      "source": [
        "## 반복문 for 😉\n",
        "\n",
        "for loop\n",
        "\n",
        "for문은 입력 시퀀스에 대해서 반복적으로 특정 작업을 실행하는 명령문입니다.\n",
        "\n",
        "```\n",
        " for <임시변수> in <list 변수> :\n",
        "     <취할 동작>  # 들여쓰기를 해야합니다.\n",
        "```\n",
        "\n",
        "\n"
      ]
    },
    {
      "cell_type": "code",
      "metadata": {
        "id": "HU7RfLquN93C"
      },
      "source": [
        "# Todo 15. 아래의 리스트(시퀀스)의 원소를 for문을 사용해서 하나씩 차례대로 출력하시오.\n",
        "\n",
        "songs = ['민족의아리아', '엘리제', '뱃노래', '석탑', '지야의함성', '젊은그대']"
      ],
      "execution_count": null,
      "outputs": []
    },
    {
      "cell_type": "markdown",
      "metadata": {
        "id": "bdg_TG_uSh1h"
      },
      "source": [
        "## range 함수 ☺️\n",
        "\n",
        "`range()` 함수는 반복문과 연동되어 많이 사용되는 함수입니다. 숫자형 자료에 대해서 반복적으로 표현을 해야하는 경우 주로 사용합니다. \n",
        "\n",
        "> ex) 1부터 100까지의 합을 구하시오."
      ]
    },
    {
      "cell_type": "code",
      "metadata": {
        "colab": {
          "base_uri": "https://localhost:8080/"
        },
        "id": "Qz0YZZaaSwFy",
        "outputId": "50a594d3-dd9a-41cf-ec8b-0ad95c431394"
      },
      "source": [
        "# 1부터 100까지의 합을 구하기\n",
        "# range(1,101,1)는 1부터, 100까지, 증가량 1로 임시변수 'i'에 지속적으로 반복적으로 할당 수행. \n",
        "total = 0\n",
        "for i in range(1, 101, 1): \n",
        "    total = total + i\n",
        "\n",
        "print(total)"
      ],
      "execution_count": null,
      "outputs": [
        {
          "output_type": "stream",
          "text": [
            "5050\n"
          ],
          "name": "stdout"
        }
      ]
    },
    {
      "cell_type": "code",
      "metadata": {
        "id": "M9M5ncjbTY93"
      },
      "source": [
        "# Todo 16. 1부터 200까지의 합을 range 함수를 활용해서 표현하시오. "
      ],
      "execution_count": null,
      "outputs": []
    },
    {
      "cell_type": "markdown",
      "metadata": {
        "id": "LuUoSOwEXqYy"
      },
      "source": [
        "## 사전 자료형 dictionary ☺️\n",
        "\n",
        "단어 그대로 직역하면 📕사전이라는 뜻입니다.\n",
        "\n",
        "> \"Korea\"이라는 단어에 \"고려\", \"University\"라는 단어에 \"대학교\"라는 뜻이 매칭되어 있듯이 \n",
        "\n",
        "> 딕셔너리는 **Key**와 **Value**를 한 쌍으로 갖는 자료형입니다. 따라서, **Key**가 **\"Korea\"**이라면 **Value**는 **\"고려\"**가 될 것입니다.\n",
        "\n",
        "```\n",
        "dict_1 = {'Korea' : '고려', 'University' : '대학교'}\n",
        "print(dict)\n",
        "```\n",
        "\n"
      ]
    },
    {
      "cell_type": "code",
      "metadata": {
        "colab": {
          "base_uri": "https://localhost:8080/"
        },
        "id": "PxzARiedX7DD",
        "outputId": "2cf931de-9549-42be-e1ce-2835ee1d27b6"
      },
      "source": [
        "dict_1 = {'Korea' : '고려', 'University' : '대학교'}\n",
        "\n",
        "# key만 찾기\n",
        "print(dict_1.keys())\n",
        "\n",
        "# value만 찾기\n",
        "print(dict_1.values())\n",
        "\n",
        "# key, value 모두 찾기\n",
        "print(dict_1.items())\n",
        "\n",
        "# Korea key의 value 불러오기\n",
        "print(dict_1['Korea'])"
      ],
      "execution_count": null,
      "outputs": [
        {
          "output_type": "stream",
          "text": [
            "dict_keys(['Korea', 'University'])\n",
            "dict_values(['고려', '대학교'])\n",
            "dict_items([('Korea', '고려'), ('University', '대학교')])\n",
            "고려\n"
          ],
          "name": "stdout"
        }
      ]
    },
    {
      "cell_type": "markdown",
      "metadata": {
        "id": "076jJmIyY-Uq"
      },
      "source": [
        "### 구글 코랩과 구글 드라이브 연동하기 🤩\n",
        "\n",
        "구글 코랩 환경에서는 로그인되어 있는 구글 계정과 연결되어 있는 '구글 드라이브'와의 연동을 지원합니다.  \n",
        "연동하는 경우, 자신의 구글 드라이브를 로컬 환경처럼 활용이 가능하며, 원하는 파일이나 이미지를 불러올 수 있습니다."
      ]
    },
    {
      "cell_type": "code",
      "metadata": {
        "id": "115tO3uVZR7J"
      },
      "source": [
        "### Google Drive 패키지와 os 모듈 불러오기\n",
        "\n",
        "from google.colab import drive\n",
        "import os"
      ],
      "execution_count": null,
      "outputs": []
    },
    {
      "cell_type": "code",
      "metadata": {
        "colab": {
          "base_uri": "https://localhost:8080/"
        },
        "id": "1pOEIzQKZUkM",
        "outputId": "5f553bad-8c34-466b-c88d-65bed2b86f27"
      },
      "source": [
        "### 본인 구글 드라이브의 최초 경로를 설정하기\n",
        "\n",
        "# 대부분의 구글 드라이브 최초 경로는 아래와 같습니다. \n",
        "# 예외 발생 시 본인의 구글 드라이브에 접속하여 content 폴더나 gdrive 폴더가 어떤 위치에 있으며, \n",
        "# 자신이 연결하려는 폴더까지의 경로가 어떻게 되는지 확인해야 합니다.  \n",
        "drive.mount('/content/gdrive/')"
      ],
      "execution_count": null,
      "outputs": [
        {
          "output_type": "stream",
          "text": [
            "Mounted at /content/gdrive/\n"
          ],
          "name": "stdout"
        }
      ]
    },
    {
      "cell_type": "markdown",
      "metadata": {
        "id": "K9ztkl8wZdeK"
      },
      "source": [
        "<img src = \"https://1.bp.blogspot.com/-UdgK4XrzJ6k/XoRD6CTlL-I/AAAAAAAAAQY/GptZSn3vxHwoTGE0mOpaJVJWLRQYZdaeQCLcBGAsYHQ/s1600/%25E1%2584%2589%25E1%2585%25B3%25E1%2584%258F%25E1%2585%25B3%25E1%2584%2585%25E1%2585%25B5%25E1%2586%25AB%25E1%2584%2589%25E1%2585%25A3%25E1%2586%25BA%2B2020-04-01%2B%25E1%2584%258B%25E1%2585%25A9%25E1%2584%2592%25E1%2585%25AE%2B4.29.05.png\" width = \"800\" >\n"
      ]
    },
    {
      "cell_type": "code",
      "metadata": {
        "colab": {
          "base_uri": "https://localhost:8080/",
          "height": 35
        },
        "id": "tasNALVbZeu1",
        "outputId": "c79531e8-9e88-4790-d8a0-e38d26965077"
      },
      "source": [
        "### 자신의 현재 경로를 파악하기\n",
        "\n",
        "os.getcwd() ## 아마도 /content로 나올 것."
      ],
      "execution_count": null,
      "outputs": [
        {
          "output_type": "execute_result",
          "data": {
            "application/vnd.google.colaboratory.intrinsic+json": {
              "type": "string"
            },
            "text/plain": [
              "'/content'"
            ]
          },
          "metadata": {
            "tags": []
          },
          "execution_count": 24
        }
      ]
    },
    {
      "cell_type": "code",
      "metadata": {
        "colab": {
          "base_uri": "https://localhost:8080/",
          "height": 130
        },
        "id": "zwSvhqMIZ1NY",
        "outputId": "1d2a60ee-915c-4f3c-e517-2f768e47cd99"
      },
      "source": [
        "### 현재 작업 환경 설정하기 (자신만의 작업 디렉토리를 기본 경로로 설정하는 것)\n",
        "\n",
        "#.ipynb 노트북 파일과 불러오려는 이미지 및 모듈에 해당하는 파일들은 같은 현재 작업 환경 \n",
        "#또는 그 하위 폴더에 존재하는 것이 좋습니다. \n",
        "\n",
        "# 자신만의 기본 경로를 설정하는데, 대부분의 경우에는 Colab Notebooks까지 동일하게 공유하며,\n",
        "# 이후 경로는 자신이 생성한 폴더에 맞추어서 경로를 설정하면 됩니다.\n",
        "# 수업에서는 자신의 구글 드라이브에 information_retrieval 폴더를 생성하시면 됩니다. \n",
        "os.chdir('/content/gdrive/My Drive/Colab Notebooks/information_retrieval')"
      ],
      "execution_count": null,
      "outputs": [
        {
          "output_type": "error",
          "ename": "SyntaxError",
          "evalue": "ignored",
          "traceback": [
            "\u001b[0;36m  File \u001b[0;32m\"<ipython-input-25-29b44722e46b>\"\u001b[0;36m, line \u001b[0;32m3\u001b[0m\n\u001b[0;31m    --> .ipynb 노트북 파일과 불러오려는 이미지 및 모듈에 해당하는 파일들은 같은 현재 작업 환경\u001b[0m\n\u001b[0m      ^\u001b[0m\n\u001b[0;31mSyntaxError\u001b[0m\u001b[0;31m:\u001b[0m invalid syntax\n"
          ]
        }
      ]
    },
    {
      "cell_type": "markdown",
      "metadata": {
        "id": "hch-wZ5MTjfz"
      },
      "source": [
        "## 👍 실습 종료!! 정말 고생 많으셨습니다.\n",
        "\n",
        "## 🤥💦 모르는 것이 있을 경우에는? (Remind)\n",
        "\n",
        "프로그래밍의 첫 걸음은 `검색` 입니다.\n",
        "\n",
        "특히 `빅데이터와 정보 검색` 수업을 듣고 있는 여러분들은 반.드.시 궁금하거나 모르는 내용에 대해서 `검색`하는 습관이 필요합니다.\n",
        "\n",
        "> Google 검색 엔진 \n",
        "                \n",
        "    -> \"Python 루프문\"\n",
        "                 \n",
        "    -> \"Python for문 에러\"\n",
        "\n",
        "    -> \"What is SyntaxError: invalid syntax in python?\"\n",
        "\n",
        "등의 `에러문장`과 `키워드`를 적극 활용해주세요!😄\n",
        "\n"
      ]
    },
    {
      "cell_type": "code",
      "metadata": {
        "id": "XM7-ZoGRUw68"
      },
      "source": [
        ""
      ],
      "execution_count": null,
      "outputs": []
    }
  ]
}